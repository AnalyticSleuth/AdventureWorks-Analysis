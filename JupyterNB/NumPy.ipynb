{
 "cells": [
  {
   "attachments": {},
   "cell_type": "markdown",
   "metadata": {},
   "source": [
    "3. NumPy"
   ]
  },
  {
   "attachments": {},
   "cell_type": "markdown",
   "metadata": {},
   "source": [
    "Why use NumPy?"
   ]
  },
  {
   "attachments": {},
   "cell_type": "markdown",
   "metadata": {},
   "source": [
    "NumPy is a Python library used for working with arrays. NumPy stands for Numerical Python.\n",
    "\n",
    "In Python we have lists that serve the purpose of arrays, but they are slow to process.\n",
    "NumPy aims to provide an array object that is up to 50x faster than traditional Python lists.\n",
    "The array object in NumPy is called ndarray, it provides a lot of supporting functions that make working with ndarray very easy.\n",
    "Arrays are very frequently used in data science, where speed and resources are very important."
   ]
  },
  {
   "cell_type": "code",
   "execution_count": 3,
   "metadata": {},
   "outputs": [],
   "source": [
    "# Let's start by importing NumPy. Remember from the previous session, You have to import a package with each file\n",
    "# We will alias as np for simplicity\n",
    "\n",
    "import numpy as np"
   ]
  },
  {
   "cell_type": "code",
   "execution_count": 4,
   "metadata": {},
   "outputs": [
    {
     "name": "stdout",
     "output_type": "stream",
     "text": [
      "[1 2 3 4 5]\n",
      "<class 'numpy.ndarray'>\n"
     ]
    }
   ],
   "source": [
    "# As a refresher, we create a numpy array by converting a list using the array function, as shown below.\n",
    "\n",
    "arr = np.array([1, 2, 3, 4, 5])\n",
    "print(arr)\n",
    "\n",
    "print(type(arr))"
   ]
  },
  {
   "cell_type": "code",
   "execution_count": 9,
   "metadata": {},
   "outputs": [
    {
     "name": "stdout",
     "output_type": "stream",
     "text": [
      "2\n",
      "[2 3]\n",
      "4\n"
     ]
    }
   ],
   "source": [
    "# To index a NumPy array is similar to a normal list\n",
    "\n",
    "arr = np.array([1, 2, 3, 4])\n",
    "print(arr[1])\n",
    "print(arr[1:3])\n",
    "print(arr[-1])"
   ]
  },
  {
   "cell_type": "code",
   "execution_count": 23,
   "metadata": {},
   "outputs": [
    {
     "ename": "TypeError",
     "evalue": "can only concatenate list (not \"int\") to list",
     "output_type": "error",
     "traceback": [
      "\u001b[1;31m---------------------------------------------------------------------------\u001b[0m",
      "\u001b[1;31mTypeError\u001b[0m                                 Traceback (most recent call last)",
      "\u001b[1;32mc:\\Users\\Griffin\\OneDrive - Atelier Ultimate\\SLS\\College Material\\Apprentice College\\Python\\Code Samples\\Instructor Examples\\NumPy.ipynb Cell 7\u001b[0m in \u001b[0;36m<cell line: 5>\u001b[1;34m()\u001b[0m\n\u001b[0;32m      <a href='vscode-notebook-cell:/c%3A/Users/Griffin/OneDrive%20-%20Atelier%20Ultimate/SLS/College%20Material/Apprentice%20College/Python/Code%20Samples/Instructor%20Examples/NumPy.ipynb#X12sZmlsZQ%3D%3D?line=0'>1</a>\u001b[0m \u001b[39m# This is where the similarities end between NumPy arrays and standard python lists\u001b[39;00m\n\u001b[0;32m      <a href='vscode-notebook-cell:/c%3A/Users/Griffin/OneDrive%20-%20Atelier%20Ultimate/SLS/College%20Material/Apprentice%20College/Python/Code%20Samples/Instructor%20Examples/NumPy.ipynb#X12sZmlsZQ%3D%3D?line=1'>2</a>\u001b[0m \u001b[39m# Prehaps I want to add 5 to each number, as written below...\u001b[39;00m\n\u001b[0;32m      <a href='vscode-notebook-cell:/c%3A/Users/Griffin/OneDrive%20-%20Atelier%20Ultimate/SLS/College%20Material/Apprentice%20College/Python/Code%20Samples/Instructor%20Examples/NumPy.ipynb#X12sZmlsZQ%3D%3D?line=3'>4</a>\u001b[0m \u001b[39mlist\u001b[39m \u001b[39m=\u001b[39m [\u001b[39m10\u001b[39m,\u001b[39m20\u001b[39m,\u001b[39m30\u001b[39m,\u001b[39m40\u001b[39m,\u001b[39m50\u001b[39m,\u001b[39m60\u001b[39m,\u001b[39m70\u001b[39m,\u001b[39m80\u001b[39m,\u001b[39m90\u001b[39m,\u001b[39m100\u001b[39m]\n\u001b[1;32m----> <a href='vscode-notebook-cell:/c%3A/Users/Griffin/OneDrive%20-%20Atelier%20Ultimate/SLS/College%20Material/Apprentice%20College/Python/Code%20Samples/Instructor%20Examples/NumPy.ipynb#X12sZmlsZQ%3D%3D?line=4'>5</a>\u001b[0m \u001b[39mlist\u001b[39m \u001b[39m=\u001b[39m \u001b[39mlist\u001b[39;49m \u001b[39m+\u001b[39;49m \u001b[39m5\u001b[39;49m\n\u001b[0;32m      <a href='vscode-notebook-cell:/c%3A/Users/Griffin/OneDrive%20-%20Atelier%20Ultimate/SLS/College%20Material/Apprentice%20College/Python/Code%20Samples/Instructor%20Examples/NumPy.ipynb#X12sZmlsZQ%3D%3D?line=5'>6</a>\u001b[0m \u001b[39mprint\u001b[39m(\u001b[39mlist\u001b[39m)\n",
      "\u001b[1;31mTypeError\u001b[0m: can only concatenate list (not \"int\") to list"
     ]
    }
   ],
   "source": [
    "# This is where the similarities end between NumPy arrays and standard python lists\n",
    "# Prehaps I want to add 5 to each number, as written below...\n",
    "\n",
    "list = [10,20,30,40,50,60,70,80,90,100]\n",
    "list = list + 5\n",
    "print(list)\n",
    "\n",
    "# For the above to work, you would have to write a custom For Loop to get the desired outcome"
   ]
  },
  {
   "cell_type": "code",
   "execution_count": 25,
   "metadata": {},
   "outputs": [
    {
     "name": "stdout",
     "output_type": "stream",
     "text": [
      "[ 15  25  35  45  55  65  75  85  95 105]\n"
     ]
    }
   ],
   "source": [
    "# But in a NumPy array, you can simply enter the following:\n",
    "\n",
    "list = [10,20,30,40,50,60,70,80,90,100]\n",
    "numpyList = np.array(list)\n",
    "numpyList = numpyList +5\n",
    "print(numpyList)"
   ]
  },
  {
   "cell_type": "code",
   "execution_count": 42,
   "metadata": {},
   "outputs": [
    {
     "name": "stdout",
     "output_type": "stream",
     "text": [
      "[12 32 29 55 11 19 23 24 34 15]\n",
      "[ 7.456452 19.883872 18.019759 34.175405  6.835081 11.806049 14.291533\n",
      " 14.912904 21.126614  9.320565]\n"
     ]
    }
   ],
   "source": [
    "# This can be more useful when manipulating large amounts of data.\n",
    "\n",
    "# Here we have a list of distances in kilometers \n",
    "distances_km = np.array([12,32,29,55,11,19,23,24,34,15])\n",
    "print(distances_km)\n",
    "\n",
    "# Let's convert this array of kilometers to miles\n",
    "distances_miles = distances_km * 0.621371\n",
    "print(distances_miles)"
   ]
  },
  {
   "cell_type": "code",
   "execution_count": 56,
   "metadata": {},
   "outputs": [
    {
     "name": "stdout",
     "output_type": "stream",
     "text": [
      "[34 37 32 23 31]\n"
     ]
    }
   ],
   "source": [
    "# Or when working with multiple arrays of data\n",
    "\n",
    "# Here we have a list of working hours for each person in our team for each day of the week\n",
    "mon = np.array([8, 8, 6, 8, 5])\n",
    "tue = np.array([7, 8, 4, 0, 7])\n",
    "wed = np.array([8, 8, 6, 0, 5])\n",
    "thu = np.array([6, 8, 8, 7, 9])\n",
    "fri = np.array([5, 5, 8, 8, 5])\n",
    "\n",
    "# We can use NumPy to combine these arrays together to get a total number of working hours for each person.\n",
    "working_hours = mon + tue + wed + thu + fri\n",
    "print(working_hours)"
   ]
  },
  {
   "cell_type": "code",
   "execution_count": 70,
   "metadata": {},
   "outputs": [
    {
     "name": "stdout",
     "output_type": "stream",
     "text": [
      "[['Kevin' '34']\n",
      " ['Michael' '37']\n",
      " ['Dylan' '32']\n",
      " ['Jess' '23']\n",
      " ['Amy' '31']] \n",
      "\n",
      "['Kevin' '34'] \n",
      "\n",
      "Michael\n",
      "['34' '37' '32' '23' '31']\n",
      "['Kevin' 'Michael' 'Dylan' 'Jess' 'Amy'] \n",
      "\n",
      "['Kevin' '34'] ['Amy' '31']\n"
     ]
    }
   ],
   "source": [
    "# Let's make this a bit more dynamic. Using the column_stack method, we can create a 2D array from the two lists\n",
    "team = np.array(['Kevin', 'Michael','Dylan','Jess','Amy'])\n",
    "team_working_hours = np.column_stack((team, working_hours)) \n",
    "\n",
    "# We will use \\n to enter a new line in the terminal\n",
    "print(team_working_hours, \"\\n\")\n",
    "\n",
    "# A 2D array is simply a list of lists. We can then fetch each individual list or iterate through the list of lists\n",
    "print(team_working_hours[0], \"\\n\")\n",
    "print(team_working_hours[1,0])\n",
    "\n",
    "# Or just go buck wild!\n",
    "print(team_working_hours[:,1])\n",
    "print(team_working_hours[:,0], \"\\n\")\n",
    "print(team_working_hours[0,:], team_working_hours[-1,:])\n",
    "\n",
    "# You can see the documentation for more examples"
   ]
  },
  {
   "cell_type": "code",
   "execution_count": 79,
   "metadata": {},
   "outputs": [
    {
     "name": "stdout",
     "output_type": "stream",
     "text": [
      "[19 21 22 23 18 19 20 19 21 21 19 23 26 25 31 44]\n",
      "23.1875\n",
      "21.0\n",
      "6.267163931955187\n"
     ]
    }
   ],
   "source": [
    "# We can also create custom aggregates using a NumPy array.\n",
    "\n",
    "# Here we have a list of student ages in our class\n",
    "ages = np.array([19,21,22,23,18,19,20,19,21,21,19,23,26,25,31,44])\n",
    "print(ages)\n",
    "\n",
    "# We can use NumPy to collect some insights from our list\n",
    "avg_age = np.mean(ages)\n",
    "print(avg_age)\n",
    "\n",
    "median_age = np.median(ages)\n",
    "print(median_age)\n",
    "\n",
    "stdv_age = np.std(ages)\n",
    "print(stdv_age)\n",
    "\n"
   ]
  },
  {
   "cell_type": "code",
   "execution_count": 90,
   "metadata": {},
   "outputs": [
    {
     "name": "stdout",
     "output_type": "stream",
     "text": [
      "[[ 1.        -0.0237061]\n",
      " [-0.0237061  1.       ]]\n",
      "\n",
      " -0.023706\n"
     ]
    }
   ],
   "source": [
    "# If we combine this with data on how well each student scored, we can even find a correlation between\n",
    "# student scores and how old they are\n",
    "\n",
    "ages = np.array([19,21,22,23,18,19,20,19,21,21,19,23,26,25,31,44])\n",
    "scores = np.array([66,77,76,57,70,88,79,61,64,74,83,91,95,73,54,77])\n",
    "\n",
    "# Here we can find the correlation between student scores and their age\n",
    "cor = np.corrcoef(ages, scores)\n",
    "print(cor)\n",
    "\n",
    "# Let's make this a little easier to read\n",
    "print(\"\\n\", round(cor[0,1],6))"
   ]
  }
 ],
 "metadata": {
  "kernelspec": {
   "display_name": "Python 3",
   "language": "python",
   "name": "python3"
  },
  "language_info": {
   "codemirror_mode": {
    "name": "ipython",
    "version": 3
   },
   "file_extension": ".py",
   "mimetype": "text/x-python",
   "name": "python",
   "nbconvert_exporter": "python",
   "pygments_lexer": "ipython3",
   "version": "3.10.2 (tags/v3.10.2:a58ebcc, Jan 17 2022, 14:12:15) [MSC v.1929 64 bit (AMD64)]"
  },
  "orig_nbformat": 4,
  "vscode": {
   "interpreter": {
    "hash": "03ecdcaf46e7bb2747e60c5eb61f5f070c37ffd5fe2aa4bbc9a0681dd3be79f3"
   }
  }
 },
 "nbformat": 4,
 "nbformat_minor": 2
}
