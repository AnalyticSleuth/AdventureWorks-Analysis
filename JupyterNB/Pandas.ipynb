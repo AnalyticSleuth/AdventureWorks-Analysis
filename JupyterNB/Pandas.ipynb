{
 "cells": [
  {
   "attachments": {},
   "cell_type": "markdown",
   "metadata": {},
   "source": [
    "4. Pandas"
   ]
  },
  {
   "attachments": {},
   "cell_type": "markdown",
   "metadata": {},
   "source": [
    "Pandas is a Python library used for working with data sets.\n",
    "It has functions for analyzing, cleaning, exploring, and manipulating data.\n",
    "The name \"Pandas\" has a reference to both \"Panel Data\", and \"Python Data Analysis\" and was created by Wes McKinney in 2008.\n",
    "\n",
    "Pandas allows us to analyze big data and make conclusions based on statistical theories.\n",
    "\n",
    "Pandas gives you answers about the data. Like:\n",
    "\n",
    "Is there a correlation between two or more columns?\n",
    "What is average value?\n",
    "Max value?\n",
    "Min value?\n",
    "\n",
    "Pandas are also able to delete rows that are not relevant, or contains wrong values, like empty or NULL values. This is called cleaning the data."
   ]
  },
  {
   "cell_type": "code",
   "execution_count": 45,
   "metadata": {},
   "outputs": [],
   "source": [
    "# Let's get started with Pandas! \n",
    "# To begin, make sure you have installed pandas using Pip. Remember, we need to install every new package we use in our enviroment.\n",
    "\n",
    "# Next we are going to import Pandas into our file and alias as pd.\n",
    "import pandas as pd"
   ]
  },
  {
   "cell_type": "code",
   "execution_count": 46,
   "metadata": {},
   "outputs": [
    {
     "name": "stdout",
     "output_type": "stream",
     "text": [
      "             Name   Age  Score Jan  Score Feb  Score Mar         Country  \\\n",
      "0   Dylan Sanders  21.0       56.0       84.0       27.0  United Kingdom   \n",
      "1   Dylan Sanders  32.0       38.0       22.0        1.0         America   \n",
      "2  Gabriel Routin  52.0       33.0       59.0       39.0    South Africa   \n",
      "3     Caleb Sheen  33.0       83.0       75.0       52.0       Australia   \n",
      "4    Aundry Smith  54.0       70.0       61.0       95.0         Germany   \n",
      "\n",
      "         Date  \n",
      "0  2023/09/01  \n",
      "1  2023/04/07  \n",
      "2  2023/06/06  \n",
      "3  2023/01/01  \n",
      "4  2023/01/19  \n"
     ]
    }
   ],
   "source": [
    "# Now, let's bring in our test data\n",
    "\n",
    "# We can use the read_csv function to bring in a csv file I have attached to the same folder as this python file\n",
    "data = pd.read_csv('StudentData.csv')\n",
    "\n",
    "# Let's see what we are dealing with. Print a small snippit of the data using the head method\n",
    "print(data.head())\n",
    "\n",
    "# This is a small table describing students who have just taken a 3 month exam, 1 exam written each month."
   ]
  },
  {
   "cell_type": "code",
   "execution_count": 47,
   "metadata": {},
   "outputs": [
    {
     "name": "stdout",
     "output_type": "stream",
     "text": [
      "<class 'pandas.core.frame.DataFrame'>\n",
      "RangeIndex: 88 entries, 0 to 87\n",
      "Data columns (total 7 columns):\n",
      " #   Column     Non-Null Count  Dtype  \n",
      "---  ------     --------------  -----  \n",
      " 0   Name       86 non-null     object \n",
      " 1   Age        87 non-null     float64\n",
      " 2   Score Jan  86 non-null     float64\n",
      " 3   Score Feb  87 non-null     float64\n",
      " 4   Score Mar  85 non-null     float64\n",
      " 5   Country    85 non-null     object \n",
      " 6   Date       88 non-null     object \n",
      "dtypes: float64(4), object(3)\n",
      "memory usage: 4.9+ KB\n",
      "None\n"
     ]
    }
   ],
   "source": [
    "# Using Pandas, we can get more information on how our data is structured. Quick and easy.\n",
    "\n",
    "# print the table again, this time using the info method\n",
    "print(data.info())\n",
    "\n",
    "# This describes the individual fields in our table and their data types.\n",
    "# If you look closely, you can also see we have 88 entries, 7 columns and that this is a dataframe object type."
   ]
  },
  {
   "cell_type": "code",
   "execution_count": 48,
   "metadata": {},
   "outputs": [
    {
     "name": "stdout",
     "output_type": "stream",
     "text": [
      "<class 'pandas.core.frame.DataFrame'>\n"
     ]
    }
   ],
   "source": [
    "# While working with pandas, the main object type we will use is dataframes. \n",
    "# Dataframes are designed to display and work with tables in a very clear way, perfect for a data analyst\n",
    "\n",
    "print(type(data))"
   ]
  },
  {
   "cell_type": "code",
   "execution_count": 49,
   "metadata": {},
   "outputs": [
    {
     "name": "stdout",
     "output_type": "stream",
     "text": [
      "              Name   Age  Score Jan  Score Feb  Score Mar         Country  \\\n",
      "83       Safa Lara  27.0       81.0       56.0       44.0       Australia   \n",
      "84             NaN   NaN        NaN        NaN        NaN             NaN   \n",
      "85  Subhaan Orozco  21.0       87.0       84.0       51.0  United Kingdom   \n",
      "86   Tatiana Walsh  24.0       46.0       57.0       73.0  United Kingdom   \n",
      "87    Alicia Watts  35.0       86.0       61.0       80.0  United Kingdom   \n",
      "\n",
      "          Date  \n",
      "83  2023/06/23  \n",
      "84  2023/08/18  \n",
      "85  2022/12/25  \n",
      "86  2022/12/17  \n",
      "87  2023/02/22  \n"
     ]
    }
   ],
   "source": [
    "# Let's fetch the last few records\n",
    "print(data.tail())"
   ]
  },
  {
   "cell_type": "code",
   "execution_count": 50,
   "metadata": {},
   "outputs": [
    {
     "name": "stdout",
     "output_type": "stream",
     "text": [
      "0     21.0\n",
      "1     32.0\n",
      "2     52.0\n",
      "3     33.0\n",
      "4     54.0\n",
      "      ... \n",
      "83    27.0\n",
      "84     NaN\n",
      "85    21.0\n",
      "86    24.0\n",
      "87    35.0\n",
      "Name: Age, Length: 88, dtype: float64\n",
      "<class 'pandas.core.series.Series'>\n"
     ]
    }
   ],
   "source": [
    "# Let's fetch the ages of our learners\n",
    "\n",
    "# This is very simple to do, simply reference the field name in square brackets, following the dataframe name\n",
    "age = data['Age']\n",
    "print(age)\n",
    "\n",
    "# This is a pandas series object type\n",
    "print(type(age))"
   ]
  },
  {
   "cell_type": "code",
   "execution_count": 51,
   "metadata": {},
   "outputs": [
    {
     "name": "stdout",
     "output_type": "stream",
     "text": [
      "Average:  33.6551724137931\n",
      "Median:  33.0\n",
      "Standard Deviation:  10.085480683113856\n",
      "Min:  19.0\n",
      "Max:  56.0\n"
     ]
    }
   ],
   "source": [
    "# We could use this field now to run some analysis\n",
    "print('Average: ',age.mean())\n",
    "print('Median: ',age.median())\n",
    "print('Standard Deviation: ',age.std())\n",
    "print('Min: ',age.min())\n",
    "print('Max: ',age.max())\n"
   ]
  },
  {
   "cell_type": "code",
   "execution_count": 52,
   "metadata": {},
   "outputs": [
    {
     "name": "stdout",
     "output_type": "stream",
     "text": [
      "0     False\n",
      "1     False\n",
      "2      True\n",
      "3     False\n",
      "4      True\n",
      "      ...  \n",
      "83    False\n",
      "84    False\n",
      "85    False\n",
      "86    False\n",
      "87    False\n",
      "Name: Age, Length: 88, dtype: bool\n"
     ]
    }
   ],
   "source": [
    "# Another way we can investigate our data is by filtering our rows via operators\n",
    "\n",
    "# We simply reference the field directly and add an operator after it, like below:\n",
    "print(data['Age'] > 50)\n",
    "\n",
    "# This returns a list of booleans for each record that matches our criteria"
   ]
  },
  {
   "cell_type": "code",
   "execution_count": 53,
   "metadata": {},
   "outputs": [
    {
     "name": "stdout",
     "output_type": "stream",
     "text": [
      "                Name   Age  Score Jan  Score Feb  Score Mar        Country  \\\n",
      "2     Gabriel Routin  52.0       33.0       59.0       39.0   South Africa   \n",
      "4       Aundry Smith  54.0       70.0       61.0       95.0        Germany   \n",
      "5   Phillip Johonson  55.0       55.0       66.0       15.0  South America   \n",
      "6     Kevin Williams  56.0       98.0       52.0       92.0        Germany   \n",
      "16  Rachael Anderson  51.0       99.0       86.0       18.0      Australia   \n",
      "24       Paul kruger  54.0       81.0       84.0       41.0   South Africa   \n",
      "47        Amaan Odom  51.0       68.0       77.0       72.0      Australia   \n",
      "57       Omar Patton  56.0       68.0       55.0       58.0        Germany   \n",
      "\n",
      "          Date  \n",
      "2   2023/06/06  \n",
      "4   2023/01/19  \n",
      "5   2023/02/15  \n",
      "6   2023/03/23  \n",
      "16  2023/07/06  \n",
      "24  2022/12/18  \n",
      "47  2022/12/04  \n",
      "57  2023/07/04  \n"
     ]
    }
   ],
   "source": [
    "# To return the entire rows that match our criteria, we can use the following:\n",
    "\n",
    "# This is a unique syntax in python, but it makes sense once you write it, simply reference the dataframe\n",
    "# Then put the same filter we used above, within square brackets. The boolean list we received in our\n",
    "# previous example now becomes a filter for the table. \n",
    "overFifty = data[data['Age'] > 50]\n",
    "print(overFifty)"
   ]
  },
  {
   "cell_type": "code",
   "execution_count": 54,
   "metadata": {},
   "outputs": [
    {
     "name": "stdout",
     "output_type": "stream",
     "text": [
      "               Name   Age  Score Jan  Score Feb  Score Mar       Country  \\\n",
      "2    Gabriel Routin  52.0       33.0       59.0       39.0  South Africa   \n",
      "7      Daniel Brown  33.0       92.0        5.0       82.0  South Africa   \n",
      "8      Justin Jones  43.0       86.0       51.0       38.0  South Africa   \n",
      "24      Paul kruger  54.0       81.0       84.0       41.0  South Africa   \n",
      "26       Peter Mier  42.0       44.0       57.0       63.0  South Africa   \n",
      "28       Janice Orr  25.0       80.0       84.0       50.0  South Africa   \n",
      "29   Mollie Perkins  26.0       85.0       62.0       82.0  South Africa   \n",
      "33  Roseanna Steele  31.0       56.0       48.0       39.0  South Africa   \n",
      "46    Eshal Mullins  31.0       85.0       46.0       45.0  South Africa   \n",
      "55      Myla Ingram  40.0       85.0       76.0       39.0  South Africa   \n",
      "59  Nannie Phillips  22.0       63.0       67.0       75.0  South Africa   \n",
      "64     Heath Church  28.0       67.0       41.0       85.0  South Africa   \n",
      "65       Ashton Cox  29.0        NaN       84.0       56.0  South Africa   \n",
      "66   Barbara Oliver  29.0       76.0       55.0       45.0  South Africa   \n",
      "81    Pedro Nielsen  39.0       55.0       62.0       82.0  South Africa   \n",
      "\n",
      "          Date  \n",
      "2   2023/06/06  \n",
      "7   2022/09/03  \n",
      "8   2023/06/18  \n",
      "24  2022/12/18  \n",
      "26  2023/07/19  \n",
      "28  2022/12/16  \n",
      "29  2022/11/18  \n",
      "33  2022/12/04  \n",
      "46  2023/05/26  \n",
      "55  2023/02/12  \n",
      "59  2023/03/27  \n",
      "64  2023/01/02  \n",
      "65  2023/06/21  \n",
      "66  2023/07/28  \n",
      "81  2023/06/19  \n"
     ]
    }
   ],
   "source": [
    "# Let's play around with this for a few minutes\n",
    "\n",
    "# Fetch all records where the learner is based in South Africa\n",
    "southAfrica = data[data['Country'] == 'South Africa']\n",
    "print(southAfrica)"
   ]
  },
  {
   "cell_type": "code",
   "execution_count": 55,
   "metadata": {},
   "outputs": [
    {
     "name": "stdout",
     "output_type": "stream",
     "text": [
      "                Name   Age  Score Jan  Score Feb  Score Mar         Country  \\\n",
      "0      Dylan Sanders  21.0       56.0       84.0       27.0  United Kingdom   \n",
      "2     Gabriel Routin  52.0       33.0       59.0       39.0    South Africa   \n",
      "3        Caleb Sheen  33.0       83.0       75.0       52.0       Australia   \n",
      "4       Aundry Smith  54.0       70.0       61.0       95.0         Germany   \n",
      "5   Phillip Johonson  55.0       55.0       66.0       15.0   South America   \n",
      "..               ...   ...        ...        ...        ...             ...   \n",
      "83         Safa Lara  27.0       81.0       56.0       44.0       Australia   \n",
      "84               NaN   NaN        NaN        NaN        NaN             NaN   \n",
      "85    Subhaan Orozco  21.0       87.0       84.0       51.0  United Kingdom   \n",
      "86     Tatiana Walsh  24.0       46.0       57.0       73.0  United Kingdom   \n",
      "87      Alicia Watts  35.0       86.0       61.0       80.0  United Kingdom   \n",
      "\n",
      "          Date  \n",
      "0   2023/09/01  \n",
      "2   2023/06/06  \n",
      "3   2023/01/01  \n",
      "4   2023/01/19  \n",
      "5   2023/02/15  \n",
      "..         ...  \n",
      "83  2023/06/23  \n",
      "84  2023/08/18  \n",
      "85  2022/12/25  \n",
      "86  2022/12/17  \n",
      "87  2023/02/22  \n",
      "\n",
      "[74 rows x 7 columns]\n"
     ]
    }
   ],
   "source": [
    "# Fetch all records where the learner is NOT based in America\n",
    "notAmerica = data[data['Country'] != 'America']\n",
    "print(notAmerica)"
   ]
  },
  {
   "cell_type": "code",
   "execution_count": 56,
   "metadata": {},
   "outputs": [
    {
     "name": "stdout",
     "output_type": "stream",
     "text": [
      "              Name   Age  Score Jan  Score Feb  Score Mar         Country  \\\n",
      "0    Dylan Sanders  21.0       56.0       84.0       27.0  United Kingdom   \n",
      "2   Gabriel Routin  52.0       33.0       59.0       39.0    South Africa   \n",
      "3      Caleb Sheen  33.0       83.0       75.0       52.0       Australia   \n",
      "4     Aundry Smith  54.0       70.0       61.0       95.0         Germany   \n",
      "6   Kevin Williams  56.0       98.0       52.0       92.0         Germany   \n",
      "..             ...   ...        ...        ...        ...             ...   \n",
      "83       Safa Lara  27.0       81.0       56.0       44.0       Australia   \n",
      "84             NaN   NaN        NaN        NaN        NaN             NaN   \n",
      "85  Subhaan Orozco  21.0       87.0       84.0       51.0  United Kingdom   \n",
      "86   Tatiana Walsh  24.0       46.0       57.0       73.0  United Kingdom   \n",
      "87    Alicia Watts  35.0       86.0       61.0       80.0  United Kingdom   \n",
      "\n",
      "          Date  \n",
      "0   2023/09/01  \n",
      "2   2023/06/06  \n",
      "3   2023/01/01  \n",
      "4   2023/01/19  \n",
      "6   2023/03/23  \n",
      "..         ...  \n",
      "83  2023/06/23  \n",
      "84  2023/08/18  \n",
      "85  2022/12/25  \n",
      "86  2022/12/17  \n",
      "87  2023/02/22  \n",
      "\n",
      "[64 rows x 7 columns]\n"
     ]
    }
   ],
   "source": [
    "# Fetch all records where the learner is NOT based in America or South America\n",
    "\n",
    "# If you want to filter by more than one condition, things get tricky.\n",
    "# First, setup the base formula. For each condition, add a normal bracket within the square brackets. Then seperated by a & symbol\n",
    "\n",
    "# data[() & ()]\n",
    "\n",
    "# Simply put the usual filter within each of these brackets\n",
    "notAmerica = data[(data['Country'] != 'America') & (data['Country'] != 'South America')]\n",
    "print(notAmerica)"
   ]
  },
  {
   "cell_type": "code",
   "execution_count": 57,
   "metadata": {},
   "outputs": [
    {
     "name": "stdout",
     "output_type": "stream",
     "text": [
      "             Name   Age  Score Jan  Score Feb  Score Mar         Country  \\\n",
      "0   Dylan Sanders  21.0       56.0       84.0       27.0  United Kingdom   \n",
      "1   Dylan Sanders  32.0       38.0       22.0        1.0         America   \n",
      "2  Gabriel Routin  52.0       33.0       59.0       39.0    South Africa   \n",
      "3     Caleb Sheen  33.0       83.0       75.0       52.0       Australia   \n",
      "4    Aundry Smith  54.0       70.0       61.0       95.0         Germany   \n",
      "\n",
      "         Date  \n",
      "0  2023/09/01  \n",
      "1  2023/04/07  \n",
      "2  2023/06/06  \n",
      "3  2023/01/01  \n",
      "4  2023/01/19  \n",
      "              Name   Age  Score Jan  Score Feb  Score Mar         Country  \\\n",
      "83       Safa Lara  27.0       81.0       56.0       44.0       Australia   \n",
      "84             NaN   NaN        NaN        NaN        NaN             NaN   \n",
      "85  Subhaan Orozco  21.0       87.0       84.0       51.0  United Kingdom   \n",
      "86   Tatiana Walsh  24.0       46.0       57.0       73.0  United Kingdom   \n",
      "87    Alicia Watts  35.0       86.0       61.0       80.0  United Kingdom   \n",
      "\n",
      "          Date  \n",
      "83  2023/06/23  \n",
      "84  2023/08/18  \n",
      "85  2022/12/25  \n",
      "86  2022/12/17  \n",
      "87  2023/02/22  \n"
     ]
    }
   ],
   "source": [
    "# By now you've probably noticed, some of our data is in the wrong format. We need to repair it.\n",
    "# This is called 'data clensing'\n",
    "\n",
    "# Let's get a closer look at our data structure\n",
    "print(data.head())\n",
    "print(data.tail())\n",
    "\n",
    "# Our numeric values are showing as floats. This will be the first thing we need to fix\n",
    "# Some values are missing, we will need to either fill in the blanks or remove the records entirely\n",
    "# Lastly, we have at least one duplicate we need to fix"
   ]
  },
  {
   "cell_type": "code",
   "execution_count": 58,
   "metadata": {},
   "outputs": [
    {
     "name": "stdout",
     "output_type": "stream",
     "text": [
      "             Name   Age  Score Jan  Score Feb  Score Mar         Country  \\\n",
      "0   Dylan Sanders  21.0       56.0       84.0       27.0  United Kingdom   \n",
      "1   Dylan Sanders  32.0       38.0       22.0        1.0         America   \n",
      "2  Gabriel Routin  52.0       33.0       59.0       39.0    South Africa   \n",
      "3     Caleb Sheen  33.0       83.0       75.0       52.0       Australia   \n",
      "4    Aundry Smith  54.0       70.0       61.0       95.0         Germany   \n",
      "\n",
      "         Date  \n",
      "0  2023/09/01  \n",
      "1  2023/04/07  \n",
      "2  2023/06/06  \n",
      "3  2023/01/01  \n",
      "4  2023/01/19  \n",
      "                Name   Age  Score Jan  Score Feb  Score Mar         Country  \\\n",
      "82  Youssef Atkinson  21.0       74.0       40.0       80.0  United Kingdom   \n",
      "83         Safa Lara  27.0       81.0       56.0       44.0       Australia   \n",
      "85    Subhaan Orozco  21.0       87.0       84.0       51.0  United Kingdom   \n",
      "86     Tatiana Walsh  24.0       46.0       57.0       73.0  United Kingdom   \n",
      "87      Alicia Watts  35.0       86.0       61.0       80.0  United Kingdom   \n",
      "\n",
      "          Date  \n",
      "82  2022/10/26  \n",
      "83  2023/06/23  \n",
      "85  2022/12/25  \n",
      "86  2022/12/17  \n",
      "87  2023/02/22  \n"
     ]
    }
   ],
   "source": [
    "# We have enough data to run analysis without having to repair the records with missing values\n",
    "# Let's purge all recoreds where there are Null values\n",
    "\n",
    "# To acheive this, we can use the dropna method\n",
    "noNulls = data.dropna()\n",
    "print(noNulls.head())\n",
    "print(noNulls.tail())"
   ]
  },
  {
   "cell_type": "code",
   "execution_count": 59,
   "metadata": {},
   "outputs": [
    {
     "name": "stdout",
     "output_type": "stream",
     "text": [
      "                Name   Age  Score Jan  Score Feb  Score Mar         Country  \\\n",
      "0      Dylan Sanders  21.0       56.0       84.0       27.0  United Kingdom   \n",
      "1      Dylan Sanders  32.0       38.0       22.0        1.0         America   \n",
      "2     Gabriel Routin  52.0       33.0       59.0       39.0    South Africa   \n",
      "3        Caleb Sheen  33.0       83.0       75.0       52.0       Australia   \n",
      "4       Aundry Smith  54.0       70.0       61.0       95.0         Germany   \n",
      "..               ...   ...        ...        ...        ...             ...   \n",
      "82  Youssef Atkinson  21.0       74.0       40.0       80.0  United Kingdom   \n",
      "83         Safa Lara  27.0       81.0       56.0       44.0       Australia   \n",
      "85    Subhaan Orozco  21.0       87.0       84.0       51.0  United Kingdom   \n",
      "86     Tatiana Walsh  24.0       46.0       57.0       73.0  United Kingdom   \n",
      "87      Alicia Watts  35.0       86.0       61.0       80.0  United Kingdom   \n",
      "\n",
      "          Date  \n",
      "0   2023/09/01  \n",
      "1   2023/04/07  \n",
      "2   2023/06/06  \n",
      "3   2023/01/01  \n",
      "4   2023/01/19  \n",
      "..         ...  \n",
      "82  2022/10/26  \n",
      "83  2023/06/23  \n",
      "85  2022/12/25  \n",
      "86  2022/12/17  \n",
      "87  2023/02/22  \n",
      "\n",
      "[81 rows x 7 columns]\n"
     ]
    }
   ],
   "source": [
    "# By default, the dropna() method returns a new DataFrame, and will not change the original.\n",
    "# If you want to update the original, we have to use the inplace parameter\n",
    "\n",
    "# Using the inplace method does NOT allow us to return a new dataframe, so we won't assign a variable\n",
    "data.dropna(inplace = True)\n",
    "\n",
    "# Our data is now updated\n",
    "print(data)"
   ]
  },
  {
   "cell_type": "code",
   "execution_count": 60,
   "metadata": {},
   "outputs": [
    {
     "name": "stdout",
     "output_type": "stream",
     "text": [
      "              Name   Age  Score Jan  Score Feb  Score Mar         Country  \\\n",
      "0    Dylan Sanders  21.0       56.0       84.0       27.0  United Kingdom   \n",
      "1    Dylan Sanders  32.0       38.0       22.0        1.0         America   \n",
      "2   Gabriel Routin  52.0       33.0       59.0       39.0    South Africa   \n",
      "3      Caleb Sheen  33.0       83.0       75.0       52.0       Australia   \n",
      "4     Aundry Smith  54.0       70.0       61.0       95.0         Germany   \n",
      "..             ...   ...        ...        ...        ...             ...   \n",
      "83       Safa Lara  27.0       81.0       56.0       44.0       Australia   \n",
      "84               0   0.0        0.0        0.0        0.0               0   \n",
      "85  Subhaan Orozco  21.0       87.0       84.0       51.0  United Kingdom   \n",
      "86   Tatiana Walsh  24.0       46.0       57.0       73.0  United Kingdom   \n",
      "87    Alicia Watts  35.0       86.0       61.0       80.0  United Kingdom   \n",
      "\n",
      "          Date  \n",
      "0   2023/09/01  \n",
      "1   2023/04/07  \n",
      "2   2023/06/06  \n",
      "3   2023/01/01  \n",
      "4   2023/01/19  \n",
      "..         ...  \n",
      "83  2023/06/23  \n",
      "84  2023/08/18  \n",
      "85  2022/12/25  \n",
      "86  2022/12/17  \n",
      "87  2023/02/22  \n",
      "\n",
      "[88 rows x 7 columns]\n"
     ]
    }
   ],
   "source": [
    "# We could instead replace Null values with something else, if desired\n",
    "\n",
    "data = pd.read_csv('StudentData.csv')\n",
    "data.fillna(0, inplace=True)\n",
    "print(data)"
   ]
  },
  {
   "cell_type": "code",
   "execution_count": 61,
   "metadata": {},
   "outputs": [],
   "source": [
    "# But for now, let's just purge the empty records\n",
    "data = pd.read_csv('StudentData.csv')\n",
    "data.dropna(inplace = True)"
   ]
  },
  {
   "cell_type": "code",
   "execution_count": 62,
   "metadata": {},
   "outputs": [
    {
     "name": "stdout",
     "output_type": "stream",
     "text": [
      "<class 'pandas.core.frame.DataFrame'>\n",
      "Int64Index: 81 entries, 0 to 87\n",
      "Data columns (total 7 columns):\n",
      " #   Column     Non-Null Count  Dtype  \n",
      "---  ------     --------------  -----  \n",
      " 0   Name       81 non-null     object \n",
      " 1   Age        81 non-null     float64\n",
      " 2   Score Jan  81 non-null     float64\n",
      " 3   Score Feb  81 non-null     float64\n",
      " 4   Score Mar  81 non-null     float64\n",
      " 5   Country    81 non-null     object \n",
      " 6   Date       81 non-null     object \n",
      "dtypes: float64(4), object(3)\n",
      "memory usage: 5.1+ KB\n",
      "None\n"
     ]
    }
   ],
   "source": [
    "# Let's move on to updating our formatting with each field. The datatype should be consistant\n",
    "\n",
    "# Our numeric data has become floats, this is not acceptable\n",
    "print(data.info())"
   ]
  },
  {
   "cell_type": "code",
   "execution_count": 63,
   "metadata": {},
   "outputs": [
    {
     "name": "stdout",
     "output_type": "stream",
     "text": [
      "<class 'pandas.core.frame.DataFrame'>\n",
      "Int64Index: 81 entries, 0 to 87\n",
      "Data columns (total 7 columns):\n",
      " #   Column     Non-Null Count  Dtype \n",
      "---  ------     --------------  ----- \n",
      " 0   Name       81 non-null     object\n",
      " 1   Age        81 non-null     int32 \n",
      " 2   Score Jan  81 non-null     int32 \n",
      " 3   Score Feb  81 non-null     int32 \n",
      " 4   Score Mar  81 non-null     int32 \n",
      " 5   Country    81 non-null     object\n",
      " 6   Date       81 non-null     object\n",
      "dtypes: int32(4), object(3)\n",
      "memory usage: 3.8+ KB\n",
      "None\n",
      "             Name  Age  Score Jan  Score Feb  Score Mar         Country  \\\n",
      "0   Dylan Sanders   21         56         84         27  United Kingdom   \n",
      "1   Dylan Sanders   32         38         22          1         America   \n",
      "2  Gabriel Routin   52         33         59         39    South Africa   \n",
      "3     Caleb Sheen   33         83         75         52       Australia   \n",
      "4    Aundry Smith   54         70         61         95         Germany   \n",
      "\n",
      "         Date  \n",
      "0  2023/09/01  \n",
      "1  2023/04/07  \n",
      "2  2023/06/06  \n",
      "3  2023/01/01  \n",
      "4  2023/01/19  \n"
     ]
    }
   ],
   "source": [
    "# We will convert each field that is float into an int using the astype method\n",
    "\n",
    "# We repeat this with each field. You should never have enough fields in a table to worry about repeating this extensibly.\n",
    "data['Age'] = data['Age'].astype('int')\n",
    "data['Score Jan'] = data['Score Jan'].astype('int')\n",
    "data['Score Feb'] = data['Score Feb'].astype('int')\n",
    "data['Score Mar'] = data['Score Mar'].astype('int')\n",
    "\n",
    "# Now let's see the changes in effect\n",
    "print(data.info())\n",
    "print(data.head())"
   ]
  },
  {
   "cell_type": "code",
   "execution_count": 64,
   "metadata": {},
   "outputs": [
    {
     "name": "stdout",
     "output_type": "stream",
     "text": [
      "             Name  Age  Score Jan  Score Feb  Score Mar         Country  \\\n",
      "1   Dylan Sanders   32         38         22          1         America   \n",
      "13  Dylan Sanders   38         91         87         30  United Kingdom   \n",
      "18  Dylan Sanders   48         81          5         20  United Kingdom   \n",
      "\n",
      "          Date  \n",
      "1   2023/04/07  \n",
      "13  2023/06/11  \n",
      "18  2022/10/27  \n"
     ]
    }
   ],
   "source": [
    "# Lastly, let's fix that pesky duplicate. We will start by finding all records that are duplicated\n",
    "\n",
    "# Using the duplicated method returns a list of True and False. True for records that are duplicated. We can use this\n",
    "# to filter our dataframe by these records and display them.\n",
    "duplicates = data['Name'].duplicated()\n",
    "print(data[duplicates])"
   ]
  },
  {
   "cell_type": "code",
   "execution_count": 67,
   "metadata": {},
   "outputs": [
    {
     "name": "stdout",
     "output_type": "stream",
     "text": [
      "               Name  Age  Score Jan  Score Feb  Score Mar         Country  \\\n",
      "0     Dylan Sanders   21         56         84         27  United Kingdom   \n",
      "2    Gabriel Routin   52         33         59         39    South Africa   \n",
      "3       Caleb Sheen   33         83         75         52       Australia   \n",
      "4      Aundry Smith   54         70         61         95         Germany   \n",
      "5  Phillip Johonson   55         55         66         15   South America   \n",
      "\n",
      "         Date  \n",
      "0  2023/09/01  \n",
      "2  2023/06/06  \n",
      "3  2023/01/01  \n",
      "4  2023/01/19  \n",
      "5  2023/02/15  \n",
      "                Name  Age  Score Jan  Score Feb  Score Mar         Country  \\\n",
      "82  Youssef Atkinson   21         74         40         80  United Kingdom   \n",
      "83         Safa Lara   27         81         56         44       Australia   \n",
      "85    Subhaan Orozco   21         87         84         51  United Kingdom   \n",
      "86     Tatiana Walsh   24         46         57         73  United Kingdom   \n",
      "87      Alicia Watts   35         86         61         80  United Kingdom   \n",
      "\n",
      "          Date  \n",
      "82  2022/10/26  \n",
      "83  2023/06/23  \n",
      "85  2022/12/25  \n",
      "86  2022/12/17  \n",
      "87  2023/02/22  \n"
     ]
    }
   ],
   "source": [
    "# These records are clearly wrong. Let's purge them.\n",
    "\n",
    "data.drop_duplicates(subset= 'Name', inplace = True)\n",
    "\n",
    "print(data.head())\n",
    "print(data.tail())"
   ]
  },
  {
   "cell_type": "code",
   "execution_count": 66,
   "metadata": {},
   "outputs": [
    {
     "name": "stdout",
     "output_type": "stream",
     "text": [
      "<class 'pandas.core.frame.DataFrame'>\n",
      "Int64Index: 81 entries, 0 to 87\n",
      "Data columns (total 7 columns):\n",
      " #   Column     Non-Null Count  Dtype \n",
      "---  ------     --------------  ----- \n",
      " 0   Name       81 non-null     object\n",
      " 1   Age        81 non-null     int32 \n",
      " 2   Score Jan  81 non-null     int32 \n",
      " 3   Score Feb  81 non-null     int32 \n",
      " 4   Score Mar  81 non-null     int32 \n",
      " 5   Country    81 non-null     object\n",
      " 6   Date       81 non-null     object\n",
      "dtypes: int32(4), object(3)\n",
      "memory usage: 3.8+ KB\n",
      "None\n"
     ]
    }
   ],
   "source": [
    "# Finnaly our data is clean and ready for further analysis\n",
    "\n",
    "print(data.info())"
   ]
  }
 ],
 "metadata": {
  "kernelspec": {
   "display_name": "Python 3",
   "language": "python",
   "name": "python3"
  },
  "language_info": {
   "codemirror_mode": {
    "name": "ipython",
    "version": 3
   },
   "file_extension": ".py",
   "mimetype": "text/x-python",
   "name": "python",
   "nbconvert_exporter": "python",
   "pygments_lexer": "ipython3",
   "version": "3.10.2"
  },
  "orig_nbformat": 4,
  "vscode": {
   "interpreter": {
    "hash": "03ecdcaf46e7bb2747e60c5eb61f5f070c37ffd5fe2aa4bbc9a0681dd3be79f3"
   }
  }
 },
 "nbformat": 4,
 "nbformat_minor": 2
}
