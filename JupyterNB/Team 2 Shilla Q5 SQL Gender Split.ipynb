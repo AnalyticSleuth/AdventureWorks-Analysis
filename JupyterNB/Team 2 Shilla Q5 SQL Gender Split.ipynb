{
 "cells": [
  {
   "cell_type": "code",
   "execution_count": null,
   "metadata": {},
   "outputs": [],
   "source": [
    "# SQL Query\n",
    "### SQL Query to Analyze Sick Leave Hours by Gender and Location, please note AI was used in the process ###\n",
    "\"\"\"\n",
    "SELECT \n",
    "    e.Gender AS Sex,\n",
    "    a.City AS EmployeeCity,\n",
    "    sp.Name AS EmployeeState,\n",
    "    cr.Name AS EmployeeCountry,\n",
    "    SUM(e.SickLeaveHours) AS TotalSickLeaveHours,\n",
    "    COUNT(e.BusinessEntityID) AS NumberOfEmployees,\n",
    "    AVG(e.SickLeaveHours) AS AverageSickLeaveHours\n",
    "FROM \n",
    "    HumanResources.Employee e\n",
    "JOIN \n",
    "    Person.BusinessEntityAddress bea \n",
    "ON \n",
    "    e.BusinessEntityID = bea.BusinessEntityID\n",
    "JOIN \n",
    "    Person.Address a \n",
    "ON \n",
    "    bea.AddressID = a.AddressID\n",
    "JOIN \n",
    "    Person.StateProvince sp \n",
    "ON \n",
    "    a.StateProvinceID = sp.StateProvinceID\n",
    "JOIN \n",
    "    Person.CountryRegion cr \n",
    "ON \n",
    "    sp.CountryRegionCode = cr.CountryRegionCode\n",
    "WHERE \n",
    "    e.SickLeaveHours > 0\n",
    "GROUP BY \n",
    "    e.Gender, \n",
    "    a.City, \n",
    "    sp.Name, \n",
    "    cr.Name\n",
    "ORDER BY \n",
    "    TotalSickLeaveHours DESC;\n",
    "\"\"\""
   ]
  }
 ],
 "metadata": {
  "language_info": {
   "name": "python"
  }
 },
 "nbformat": 4,
 "nbformat_minor": 2
}
