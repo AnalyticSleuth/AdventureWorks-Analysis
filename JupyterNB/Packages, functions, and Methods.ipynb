{
 "cells": [
  {
   "attachments": {},
   "cell_type": "markdown",
   "metadata": {},
   "source": [
    "2. Packages, functions, and Methods."
   ]
  },
  {
   "cell_type": "code",
   "execution_count": null,
   "metadata": {},
   "outputs": [],
   "source": [
    "# First, we import NumPy and alias the package as np.\n",
    "# We only need to import a package once per file. We won't need to re-import this package again in this file.\n",
    "\n",
    "import numpy as np"
   ]
  },
  {
   "cell_type": "code",
   "execution_count": 2,
   "metadata": {},
   "outputs": [
    {
     "name": "stdout",
     "output_type": "stream",
     "text": [
      "[1 2 3 4 5]\n"
     ]
    }
   ],
   "source": [
    "# First, we create a list\n",
    "list = [1,2,3,4,5]\n",
    "\n",
    "# Now we create a NumPy array from the list, notice how we call np to reference the NumPy package.\n",
    "# In this example, array is a function inside the NumPy package. We only have access to this function because we imported NumPy.\n",
    "\n",
    "arr = np.array(list)\n",
    "print(arr)"
   ]
  },
  {
   "cell_type": "code",
   "execution_count": 3,
   "metadata": {},
   "outputs": [
    {
     "name": "stdout",
     "output_type": "stream",
     "text": [
      "<class 'numpy.ndarray'>\n"
     ]
    }
   ],
   "source": [
    "# Take careful note, numpy arrays are a new object type in python. This is NOT a normal list and does not behave the same way.\n",
    "\n",
    "print(type(arr))"
   ]
  },
  {
   "cell_type": "code",
   "execution_count": null,
   "metadata": {},
   "outputs": [],
   "source": [
    "# Here is a more simple way of creating a NumPy array. Remember this. We will be using this often.\n",
    "\n",
    "arr = np.array([1, 2, 3, 4, 5])\n",
    "print(arr)"
   ]
  },
  {
   "cell_type": "code",
   "execution_count": 8,
   "metadata": {},
   "outputs": [
    {
     "name": "stdout",
     "output_type": "stream",
     "text": [
      "bar\n",
      "2 5.0 2\n",
      "<class 'str'> <class 'float'> <class 'int'>\n"
     ]
    }
   ],
   "source": [
    "# Numpy has given us access to many new functions. But if you look closely, we already have a few useful functions avaliable to us\n",
    "\n",
    "# We have been using the print function this entire time\n",
    "foo = \"bar\"\n",
    "print(foo)\n",
    "\n",
    "# Our type conversion functions are still functions too\n",
    "foo = str(2)\n",
    "bar = float(5)\n",
    "num = int(foo)\n",
    "print(foo,bar,num)\n",
    "\n",
    "# As well as our type check function\n",
    "print(type(foo), type(bar), type(num))"
   ]
  },
  {
   "cell_type": "code",
   "execution_count": 18,
   "metadata": {},
   "outputs": [
    {
     "name": "stdout",
     "output_type": "stream",
     "text": [
      "[1, 2, 3, 4, 5]\n",
      "[]\n",
      "[1, 3, 4, 5]\n",
      "['Volvo', 'Suzuki', 'Kia', 'Ford', 'BMW']\n",
      "[1, 2, 3, 4, 5, 6, 7, 8, 9, 10]\n"
     ]
    }
   ],
   "source": [
    "# Importing packages give us access to many more functions. Many of which we will learn today\n",
    "# For now, let's start with methods.\n",
    "\n",
    "# Some object types has a set of methods that can be called. See list, for example:\n",
    "list = [1,2,3,4,5]\n",
    "print(list)\n",
    "\n",
    "# Using the clear method, I can empty a list quickly.\n",
    "list.clear()\n",
    "print(list)\n",
    "\n",
    "# ...Or just remove a single item.\n",
    "list = [1,2,3,4,5]\n",
    "list.pop(1)\n",
    "print(list)\n",
    "\n",
    "# How many cherry's does my list have again?\n",
    "fruits = ['apple', 'banana', 'cherry']\n",
    "x = fruits.count(\"cherry\")\n",
    "\n",
    "# You can also sort lists\n",
    "cars = ['Ford', 'BMW', 'Volvo', 'Suzuki', 'Kia']\n",
    "cars.sort(reverse=True)\n",
    "print(cars)\n",
    "\n",
    "# Maybe combine two lists?\n",
    "list1 = [1,2,3,4,5]\n",
    "list2 = [6,7,8,9,10]\n",
    "list1.extend(list2)\n",
    "print(list1)\n",
    "\n",
    "# Often, most of the intelligent data manipulation you will design will involve methods rather than functions. "
   ]
  },
  {
   "cell_type": "code",
   "execution_count": 16,
   "metadata": {},
   "outputs": [
    {
     "name": "stdout",
     "output_type": "stream",
     "text": [
      "I like apples\n",
      "['welcome', 'to', 'the', 'jungle']\n",
      "hello my friends\n"
     ]
    }
   ],
   "source": [
    "# String object types also have their own methods.\n",
    "\n",
    "# Such as the replace method.\n",
    "txt = \"I like bananas\"\n",
    "x = txt.replace(\"bananas\", \"apples\")\n",
    "print(x)\n",
    "\n",
    "# Or converting a string into a list of strings.\n",
    "txt = \"welcome to the jungle\"\n",
    "x = txt.split()\n",
    "print(x)\n",
    "\n",
    "# The lower methods is useful too. Especially when trying to convert a string to format well into a database\n",
    "txt = \"Hello my FRIENDS\"\n",
    "x = txt.lower()\n",
    "print(x)"
   ]
  },
  {
   "attachments": {},
   "cell_type": "markdown",
   "metadata": {},
   "source": [
    "You can also create your own functions. This is useful when re-using the same block of code multiple times. Instead of copying and pasting the code multiple times, you can call custom functions of your own design!"
   ]
  },
  {
   "cell_type": "code",
   "execution_count": 4,
   "metadata": {},
   "outputs": [
    {
     "name": "stdout",
     "output_type": "stream",
     "text": [
      "Hello from a function\n"
     ]
    }
   ],
   "source": [
    "# In Python a function is defined using the def keyword. \n",
    "\n",
    "def my_function():\n",
    "  print(\"Hello from a function\")\n",
    "\n",
    "# To call a custom function, follow the same syntax as the many other functions you have acceess to\n",
    "\n",
    "my_function()"
   ]
  },
  {
   "cell_type": "code",
   "execution_count": 5,
   "metadata": {},
   "outputs": [
    {
     "name": "stdout",
     "output_type": "stream",
     "text": [
      "Emil Refsnes\n",
      "Tobias Refsnes\n",
      "Linus Refsnes\n"
     ]
    }
   ],
   "source": [
    "# Information can be passed into functions as arguments.\n",
    "# Arguments are specified after the function name, inside the parentheses. You can add as many arguments as you want, just separate them with a comma.\n",
    "\n",
    "def my_function(fname):\n",
    "  print(fname + \" Refsnes\")\n",
    "\n",
    "my_function(\"Emil\")\n",
    "my_function(\"Tobias\")\n",
    "my_function(\"Linus\")"
   ]
  }
 ],
 "metadata": {
  "kernelspec": {
   "display_name": "Python 3",
   "language": "python",
   "name": "python3"
  },
  "language_info": {
   "codemirror_mode": {
    "name": "ipython",
    "version": 3
   },
   "file_extension": ".py",
   "mimetype": "text/x-python",
   "name": "python",
   "nbconvert_exporter": "python",
   "pygments_lexer": "ipython3",
   "version": "3.10.2"
  },
  "orig_nbformat": 4,
  "vscode": {
   "interpreter": {
    "hash": "03ecdcaf46e7bb2747e60c5eb61f5f070c37ffd5fe2aa4bbc9a0681dd3be79f3"
   }
  }
 },
 "nbformat": 4,
 "nbformat_minor": 2
}
