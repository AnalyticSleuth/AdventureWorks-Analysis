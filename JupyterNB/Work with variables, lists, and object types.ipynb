{
 "cells": [
  {
   "cell_type": "code",
   "execution_count": 9,
   "metadata": {},
   "outputs": [
    {
     "name": "stdout",
     "output_type": "stream",
     "text": [
      "5\n",
      "John\n"
     ]
    }
   ],
   "source": [
    "# Variables are containers for storing data values\n",
    "# A variable is created the moment you first assign a value to it.\n",
    "\n",
    "x = 5\n",
    "y = \"John\"\n",
    "\n",
    "print(x)\n",
    "print(y)"
   ]
  },
  {
   "cell_type": "code",
   "execution_count": 10,
   "metadata": {},
   "outputs": [
    {
     "name": "stdout",
     "output_type": "stream",
     "text": [
      "1.0\n"
     ]
    }
   ],
   "source": [
    "# Variables do not need to be declared with any particular type, and can even change type after they have been set\n",
    "\n",
    "x = 4        # x is of type int\n",
    "x = \"Sally\"  # x is now of type str\n",
    "x = True     # x is now a boolean\n",
    "x = 1.0      # x is now a float\n",
    "\n",
    "print(x)"
   ]
  },
  {
   "cell_type": "code",
   "execution_count": 11,
   "metadata": {},
   "outputs": [
    {
     "name": "stdout",
     "output_type": "stream",
     "text": [
      "<class 'int'>\n",
      "<class 'str'>\n"
     ]
    }
   ],
   "source": [
    "# You can get the data type of a variable with the type() function\n",
    "\n",
    "x = 5\n",
    "y = \"John\"\n",
    "print(type(x))\n",
    "print(type(y))"
   ]
  },
  {
   "cell_type": "code",
   "execution_count": 12,
   "metadata": {},
   "outputs": [],
   "source": [
    "# If you want to specify the data type of a variable, this can be done with casting.\n",
    "\n",
    "x = str(3)    # x will be '3'\n",
    "y = int(3)    # y will be 3\n",
    "z = float(3)  # z will be 3.0\n",
    "\n",
    "# All three variables below, although may seem to have the same value, are all three different object types in python. The way you assign values to variables\n",
    "# will change the variable type. Keep this in mind when working with variables.\n",
    "\n",
    "n = 1\n",
    "s = '1'\n",
    "f = 1.0"
   ]
  },
  {
   "cell_type": "code",
   "execution_count": 28,
   "metadata": {},
   "outputs": [],
   "source": [
    "# You can also use Underscores in variable names. This is known as snake_case naming convention\n",
    "\n",
    "_1_as_num = 1\n",
    "_1_as_str = '1'\n",
    "_1_as_float = 1.0"
   ]
  },
  {
   "cell_type": "code",
   "execution_count": 29,
   "metadata": {},
   "outputs": [],
   "source": [
    "# Unlike other programing languages, there is no difference in python between single or double qoutes when referencing strings\n",
    "\n",
    "x = \"John\"\n",
    "# is the same as\n",
    "x = 'John'"
   ]
  },
  {
   "cell_type": "code",
   "execution_count": 14,
   "metadata": {},
   "outputs": [],
   "source": [
    "# Named variales are case-sensitive. Be careful when creating and assigning variables\n",
    "\n",
    "a = 4\n",
    "A = \"Sally\"\n",
    "#A will not overwrite a"
   ]
  },
  {
   "cell_type": "code",
   "execution_count": 15,
   "metadata": {},
   "outputs": [
    {
     "name": "stdout",
     "output_type": "stream",
     "text": [
      "var + foo =  6\n",
      "var + foo =  YesNo\n",
      "var + foo =  3.5\n"
     ]
    }
   ],
   "source": [
    "# You can perform various operations on variables\n",
    "\n",
    "var = 1\n",
    "foo = 5\n",
    "print(\"var + foo = \", var + foo)\n",
    "\n",
    "# If you try to sum variables with string, the result differs \n",
    "\n",
    "var = 'Yes'\n",
    "foo = 'No'\n",
    "print(\"var + foo = \", var + foo)\n",
    "\n",
    "var = 1.5\n",
    "foo = 2\n",
    "print(\"var + foo = \", var + foo)"
   ]
  },
  {
   "cell_type": "code",
   "execution_count": 16,
   "metadata": {},
   "outputs": [
    {
     "name": "stdout",
     "output_type": "stream",
     "text": [
      "var + foo =  5text\n"
     ]
    }
   ],
   "source": [
    "# Unforuntly, the following does not work. You cannot sum string with intergers\n",
    "\n",
    "var = 5\n",
    "foo = 'text'\n",
    "print(\"var + foo = \", str(var) + foo)"
   ]
  },
  {
   "cell_type": "code",
   "execution_count": 17,
   "metadata": {},
   "outputs": [
    {
     "name": "stdout",
     "output_type": "stream",
     "text": [
      "var + foo =  text 6\n"
     ]
    }
   ],
   "source": [
    "# But you can add them together by adding a third parameter to the print function, instead of summing them together\n",
    "\n",
    "var = 'text'\n",
    "foo = 6\n",
    "print(\"var + foo = \", var, foo)"
   ]
  },
  {
   "cell_type": "code",
   "execution_count": 18,
   "metadata": {},
   "outputs": [
    {
     "name": "stdout",
     "output_type": "stream",
     "text": [
      "['apple', 'banana', 'cherry']\n"
     ]
    }
   ],
   "source": [
    "# Lists are used to store multiple items in a single variable.\n",
    "\n",
    "mylist = [\"apple\", \"banana\", \"cherry\"]\n",
    "\n",
    "# Lists are one of 4 built-in data types in Python used to store collections of data, the other 3 \n",
    "# are Tuple, Set, and Dictionary, all with different qualities and usage.\n",
    "\n",
    "print(mylist)"
   ]
  },
  {
   "cell_type": "code",
   "execution_count": 19,
   "metadata": {},
   "outputs": [
    {
     "name": "stdout",
     "output_type": "stream",
     "text": [
      "[1, 1.0, '1', '1.0', 11, 1253.341, '111111', 'Yes!']\n"
     ]
    }
   ],
   "source": [
    "# List items are not locked to a single data type. Individual items can be different types.\n",
    "\n",
    "myList = [1, 1.0, \"1\", '1.0', 11, 1253.341, '111111', \"Yes!\"]\n",
    "\n",
    "print(myList)"
   ]
  },
  {
   "cell_type": "code",
   "execution_count": 20,
   "metadata": {},
   "outputs": [
    {
     "name": "stdout",
     "output_type": "stream",
     "text": [
      "['apple', 'banana', 'cherry', 'apple', 'cherry']\n"
     ]
    }
   ],
   "source": [
    "# Since lists are indexed, lists can have items with the same value:\n",
    "\n",
    "thislist = [\"apple\", \"banana\", \"cherry\", \"apple\", \"cherry\"]\n",
    "print(thislist)"
   ]
  },
  {
   "cell_type": "code",
   "execution_count": 21,
   "metadata": {},
   "outputs": [
    {
     "name": "stdout",
     "output_type": "stream",
     "text": [
      "3\n"
     ]
    }
   ],
   "source": [
    "# To determine how many items a list has, use the len() function:\n",
    "\n",
    "thislist = [\"apple\", \"banana\", \"cherry\"]\n",
    "print(len(thislist))"
   ]
  },
  {
   "cell_type": "code",
   "execution_count": 22,
   "metadata": {},
   "outputs": [
    {
     "name": "stdout",
     "output_type": "stream",
     "text": [
      "banana\n",
      "cherry\n"
     ]
    }
   ],
   "source": [
    "# List items are indexed and you can access them by referring to the index number:\n",
    "# List indexes start at 0, not 1. In this case, index 1 is banana not apple. \n",
    "\n",
    "thislist = [\"apple\", \"banana\", \"cherry\"]\n",
    "print(thislist[1])\n",
    "\n",
    "# Negative indexing means start from the end\n",
    "# -1 refers to the last item, -2 refers to the second last item etc.\n",
    "\n",
    "thislist = [\"apple\", \"banana\", \"cherry\"]\n",
    "print(thislist[-1])"
   ]
  },
  {
   "cell_type": "code",
   "execution_count": 23,
   "metadata": {},
   "outputs": [
    {
     "name": "stdout",
     "output_type": "stream",
     "text": [
      "['cherry', 'orange', 'kiwi']\n",
      "['apple', 'banana', 'cherry', 'orange']\n",
      "['cherry', 'orange', 'kiwi', 'melon', 'mango']\n"
     ]
    }
   ],
   "source": [
    "# You can specify a range of indexes by specifying where to start and where to end the range.\n",
    "# When specifying a range, the return value will be a new list with the specified items.\n",
    "\n",
    "thislist = [\"apple\", \"banana\", \"cherry\", \"orange\", \"kiwi\", \"melon\", \"mango\"]\n",
    "print(thislist[2:5])\n",
    "\n",
    "# By leaving out the start value, the range will start at the first item\n",
    "print(thislist[:4])\n",
    "\n",
    "# By leaving out the end value, the range will go on to the end of the list:\n",
    "print(thislist[2:])"
   ]
  },
  {
   "cell_type": "code",
   "execution_count": 24,
   "metadata": {},
   "outputs": [
    {
     "name": "stdout",
     "output_type": "stream",
     "text": [
      "['apple', 'blackcurrant', 'cherry', 'orange', 'kiwi', 'mango']\n",
      "['apple', 'blackcurrant', 'watermelon', 'orange', 'kiwi', 'mango']\n"
     ]
    }
   ],
   "source": [
    "# To change the value of a specific item, refer to the index number:\n",
    "\n",
    "thislist = [\"apple\", \"banana\", \"cherry\", \"orange\", \"kiwi\", \"mango\"]\n",
    "thislist[1] = \"blackcurrant\"\n",
    "print(thislist)\n",
    "\n",
    "# To change the value of items within a specific range, define a list with the new values, and refer \n",
    "# to the range of index numbers where you want to insert the new values:\n",
    "thislist[1:3] = [\"blackcurrant\", \"watermelon\"]\n",
    "print(thislist)"
   ]
  },
  {
   "cell_type": "code",
   "execution_count": 25,
   "metadata": {},
   "outputs": [
    {
     "name": "stdout",
     "output_type": "stream",
     "text": [
      "['apple', 'cherry']\n",
      "['apple', 'cherry', 'orange']\n"
     ]
    }
   ],
   "source": [
    "# To remove an item from a list, use the .remove method. \n",
    "\n",
    "fruits = ['apple', 'banana', 'cherry']\n",
    "fruits.remove(\"banana\")\n",
    "print(fruits)\n",
    "\n",
    "# To add an item to a list, use the .append method.\n",
    "\n",
    "fruits.append(\"orange\")\n",
    "print(fruits)\n",
    "\n",
    "# We will learn more about methods later."
   ]
  }
 ],
 "metadata": {
  "kernelspec": {
   "display_name": "Python 3",
   "language": "python",
   "name": "python3"
  },
  "language_info": {
   "codemirror_mode": {
    "name": "ipython",
    "version": 3
   },
   "file_extension": ".py",
   "mimetype": "text/x-python",
   "name": "python",
   "nbconvert_exporter": "python",
   "pygments_lexer": "ipython3",
   "version": "3.10.2"
  },
  "orig_nbformat": 4,
  "vscode": {
   "interpreter": {
    "hash": "03ecdcaf46e7bb2747e60c5eb61f5f070c37ffd5fe2aa4bbc9a0681dd3be79f3"
   }
  }
 },
 "nbformat": 4,
 "nbformat_minor": 2
}
